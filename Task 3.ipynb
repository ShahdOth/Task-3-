{
 "cells": [
  {
   "cell_type": "code",
   "execution_count": 2,
   "id": "ee97c503",
   "metadata": {},
   "outputs": [
    {
     "name": "stdout",
     "output_type": "stream",
     "text": [
      "369.2376059889\n"
     ]
    }
   ],
   "source": [
    "#Assighment 1 mass (VAKA)\n",
    "from pyopenms import *\n",
    "print(AASequence.fromString(\"VAKA\").getMonoWeight(Residue.ResidueType.Internal,0))"
   ]
  },
  {
   "cell_type": "code",
   "execution_count": 4,
   "id": "f8588610",
   "metadata": {},
   "outputs": [
    {
     "name": "stdout",
     "output_type": "stream",
     "text": [
      "99.0684142871: from V\n",
      "71.0371141595: from A\n",
      "128.09496338280002: from K\n",
      "71.0371141595: from A\n",
      "______________________________\n",
      "369.2376059889: mass (VAKA)\n"
     ]
    }
   ],
   "source": [
    "a=0\n",
    "for i in 'VAKA':\n",
    "    x=AASequence.fromString(i).getMonoWeight(Residue.ResidueType.Internal,0)\n",
    "    a+=AASequence.fromString(i).getMonoWeight(Residue.ResidueType.Internal,0)\n",
    "    print(f'{x}: from {i}')\n",
    "print('______________________________')\n",
    "print(f'{a}: mass (VAKA)')"
   ]
  },
  {
   "cell_type": "code",
   "execution_count": null,
   "id": "a02a2444",
   "metadata": {},
   "outputs": [],
   "source": []
  }
 ],
 "metadata": {
  "kernelspec": {
   "display_name": "Python 3 (ipykernel)",
   "language": "python",
   "name": "python3"
  },
  "language_info": {
   "codemirror_mode": {
    "name": "ipython",
    "version": 3
   },
   "file_extension": ".py",
   "mimetype": "text/x-python",
   "name": "python",
   "nbconvert_exporter": "python",
   "pygments_lexer": "ipython3",
   "version": "3.8.8"
  }
 },
 "nbformat": 4,
 "nbformat_minor": 5
}
